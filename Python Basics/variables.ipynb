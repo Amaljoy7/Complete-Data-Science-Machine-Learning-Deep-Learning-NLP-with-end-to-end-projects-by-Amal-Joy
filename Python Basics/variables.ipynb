{
 "cells": [
  {
   "cell_type": "code",
   "execution_count": 1,
   "metadata": {},
   "outputs": [],
   "source": [
    "a=100"
   ]
  },
  {
   "cell_type": "code",
   "execution_count": 2,
   "metadata": {},
   "outputs": [
    {
     "name": "stdout",
     "output_type": "stream",
     "text": [
      "age: 23\n",
      "height: 5.9\n",
      "name: amal\n"
     ]
    }
   ],
   "source": [
    "#Declaring and assigning variables\n",
    "\n",
    "age=23\n",
    "height=5.9\n",
    "name=\"amal\"\n",
    "is_student=True\n",
    "\n",
    "#Printing the variables\n",
    "\n",
    "print(\"age:\",age)\n",
    "print(\"height:\",height)\n",
    "print(\"name:\",name)\n",
    "\n"
   ]
  },
  {
   "cell_type": "code",
   "execution_count": 3,
   "metadata": {},
   "outputs": [
    {
     "name": "stdout",
     "output_type": "stream",
     "text": [
      "<class 'int'>\n"
     ]
    }
   ],
   "source": [
    "#Understanding variabe types\n",
    "#Python is dynamically typed, type of a variable is determined at runtime\n",
    "\n",
    "age=23\n",
    "name=\"amal\"\n",
    "height=5.9\n",
    "is_student=True\n",
    "print(type(age))\n"
   ]
  },
  {
   "cell_type": "code",
   "execution_count": 12,
   "metadata": {},
   "outputs": [
    {
     "name": "stdout",
     "output_type": "stream",
     "text": [
      "<class 'int'>\n",
      "23\n",
      "<class 'str'>\n",
      "7 <class 'int'>\n",
      "90 <class 'str'>\n",
      " <class 'str'>\n"
     ]
    }
   ],
   "source": [
    "#Type checking and conversion\n",
    "age=23\n",
    "print(type(age))\n",
    "age_str=str(age)\n",
    "print(age_str)\n",
    "print(type(age_str))\n",
    "\n",
    "#Type conversion\n",
    "height=5.1\n",
    "type(height)\n",
    "float(int(height))\n",
    "\n",
    "#Dynamic typing\n",
    "#Python allows the type of variable to change as the program executes \n",
    "var=7\n",
    "print(var,type(var))\n",
    "var=\"90\"\n",
    "print(var,type(var))\n",
    "\n",
    "#Input\n",
    "\n",
    "age=int(input(\"hello\"))\n",
    "print(age,type(age))"
   ]
  }
 ],
 "metadata": {
  "kernelspec": {
   "display_name": "Python 3",
   "language": "python",
   "name": "python3"
  },
  "language_info": {
   "codemirror_mode": {
    "name": "ipython",
    "version": 3
   },
   "file_extension": ".py",
   "mimetype": "text/x-python",
   "name": "python",
   "nbconvert_exporter": "python",
   "pygments_lexer": "ipython3",
   "version": "3.12.0"
  }
 },
 "nbformat": 4,
 "nbformat_minor": 2
}
