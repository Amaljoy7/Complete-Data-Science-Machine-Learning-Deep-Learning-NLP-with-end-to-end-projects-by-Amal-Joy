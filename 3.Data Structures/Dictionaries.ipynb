{
 "cells": [
  {
   "cell_type": "markdown",
   "metadata": {},
   "source": [
    "Dictionaries are unordered collection of items. They store data in key-value pairs. Keys must be unikque and immutable(eg: strings, numbers or tuples), while values van be of any type.\n"
   ]
  },
  {
   "cell_type": "code",
   "execution_count": 3,
   "metadata": {},
   "outputs": [
    {
     "name": "stdout",
     "output_type": "stream",
     "text": [
      "<class 'dict'>\n"
     ]
    }
   ],
   "source": [
    "##Creating Dictionaries\n",
    "empty_dict={}\n",
    "print(type(empty_dict))"
   ]
  },
  {
   "cell_type": "code",
   "execution_count": 4,
   "metadata": {},
   "outputs": [
    {
     "data": {
      "text/plain": [
       "{}"
      ]
     },
     "execution_count": 4,
     "metadata": {},
     "output_type": "execute_result"
    }
   ],
   "source": [
    "empty_dict=dict()\n",
    "empty_dict"
   ]
  },
  {
   "cell_type": "code",
   "execution_count": null,
   "metadata": {},
   "outputs": [
    {
     "name": "stdout",
     "output_type": "stream",
     "text": [
      "{'name': 'amal', 'age': 23, 'grade': 10}\n"
     ]
    }
   ],
   "source": [
    "\n",
    "print(student)student={\"name\":\"amal\",\"age\":23,\"grade\":10}\n",
    "print(type(student))"
   ]
  },
  {
   "cell_type": "code",
   "execution_count": null,
   "metadata": {},
   "outputs": [
    {
     "name": "stdout",
     "output_type": "stream",
     "text": [
      "{'name': 10, 'age': 23}\n"
     ]
    }
   ],
   "source": [
    "##Single key is always used\n",
    "##Error\n",
    "student={\"name\":\"amal\",\"age\":23,\"name\":10}\n",
    "print(student)"
   ]
  },
  {
   "cell_type": "code",
   "execution_count": 8,
   "metadata": {},
   "outputs": [
    {
     "name": "stdout",
     "output_type": "stream",
     "text": [
      "{'name': 'amal', 'age': 23, 'grade': 'A'}\n"
     ]
    }
   ],
   "source": [
    "##Accessing dictionary elements\n",
    "student={\"name\":\"amal\",\"age\":23,\"grade\":\"A\"}\n",
    "print(student)"
   ]
  },
  {
   "cell_type": "code",
   "execution_count": 12,
   "metadata": {},
   "outputs": [
    {
     "name": "stdout",
     "output_type": "stream",
     "text": [
      "amal\n",
      "23\n",
      "A\n",
      "None\n",
      "Not Available\n"
     ]
    }
   ],
   "source": [
    "##Accesing dictionary elements\n",
    "print(student['name'])\n",
    "print(student['age'])\n",
    "\n",
    "##Accessing using get method\n",
    "print(student.get('grade'))\n",
    "print(student.get('last_name'))\n",
    "print(student.get('last_name',\"Not Available\"))\n",
    "\n",
    "\n",
    "\n"
   ]
  },
  {
   "cell_type": "code",
   "execution_count": 13,
   "metadata": {},
   "outputs": [
    {
     "name": "stdout",
     "output_type": "stream",
     "text": [
      "{'name': 'amal', 'age': 23, 'grade': 'A'}\n"
     ]
    }
   ],
   "source": [
    "##Modifying dictionary elements\n",
    "##Dictionary are mutable so u can add,upgrade or delete elements\n",
    "print(student)"
   ]
  },
  {
   "cell_type": "code",
   "execution_count": null,
   "metadata": {},
   "outputs": [
    {
     "name": "stdout",
     "output_type": "stream",
     "text": [
      "{'name': 'amal', 'age': 33, 'grade': 'A'}\n",
      "{'name': 'amal', 'age': 33, 'grade': 'A', 'address': 'india'}\n"
     ]
    }
   ],
   "source": [
    "student[\"age\"]=33  ##updated the value\n",
    "print(student)\n",
    "student[\"address\"]=\"india\"  ##added a new ley and value\n",
    "print(student)"
   ]
  },
  {
   "cell_type": "code",
   "execution_count": 16,
   "metadata": {},
   "outputs": [
    {
     "name": "stdout",
     "output_type": "stream",
     "text": [
      "{'name': 'amal', 'age': 33, 'address': 'india'}\n"
     ]
    }
   ],
   "source": [
    "del student[\"grade\"]\n",
    "print(student)"
   ]
  },
  {
   "cell_type": "code",
   "execution_count": 17,
   "metadata": {},
   "outputs": [
    {
     "name": "stdout",
     "output_type": "stream",
     "text": [
      "dict_keys(['name', 'age', 'address'])\n",
      "dict_values(['amal', 33, 'india'])\n",
      "dict_items([('name', 'amal'), ('age', 33), ('address', 'india')])\n"
     ]
    }
   ],
   "source": [
    "##Dictionary methods\n",
    "\n",
    "keys=student.keys()  ##get all the keys\n",
    "print(keys)\n",
    "values=student.values()  ##get all the values\n",
    "print(values)\n",
    "items=student.items()   ##get all key value pairs\n",
    "print(items)\n"
   ]
  },
  {
   "cell_type": "code",
   "execution_count": 19,
   "metadata": {},
   "outputs": [
    {
     "name": "stdout",
     "output_type": "stream",
     "text": [
      "{'name': 'amal', 'age': 33, 'address': 'india'}\n",
      "{'name': 'amal', 'age': 33, 'address': 'india'}\n"
     ]
    }
   ],
   "source": [
    "##shallow copy\n",
    "student_copy=student\n",
    "print(student)\n",
    "print(student_copy)"
   ]
  },
  {
   "cell_type": "code",
   "execution_count": 20,
   "metadata": {},
   "outputs": [
    {
     "name": "stdout",
     "output_type": "stream",
     "text": [
      "{'name': 'amal2', 'age': 33, 'address': 'india'}\n",
      "{'name': 'amal2', 'age': 33, 'address': 'india'}\n"
     ]
    }
   ],
   "source": [
    "student[\"name\"]=\"amal2\"\n",
    "print(student)\n",
    "print(student_copy)"
   ]
  },
  {
   "cell_type": "code",
   "execution_count": 24,
   "metadata": {},
   "outputs": [
    {
     "name": "stdout",
     "output_type": "stream",
     "text": [
      "{'name': 'amal2', 'age': 33, 'address': 'india'}\n",
      "{'name': 'amal2', 'age': 33, 'address': 'india'}\n"
     ]
    }
   ],
   "source": [
    "student_copy1=student.copy() ##shallow copy\n",
    "print(student_copy1)\n",
    "print(student)"
   ]
  },
  {
   "cell_type": "code",
   "execution_count": 25,
   "metadata": {},
   "outputs": [
    {
     "name": "stdout",
     "output_type": "stream",
     "text": [
      "{'name': 'amal2', 'age': 33, 'address': 'india'}\n",
      "{'name': 'amal3', 'age': 33, 'address': 'india'}\n"
     ]
    }
   ],
   "source": [
    "student[\"name\"]=\"amal3\"\n",
    "print(student_copy1)\n",
    "print(student)"
   ]
  },
  {
   "cell_type": "code",
   "execution_count": 28,
   "metadata": {},
   "outputs": [
    {
     "name": "stdout",
     "output_type": "stream",
     "text": [
      "name\n",
      "age\n",
      "address\n"
     ]
    }
   ],
   "source": [
    "##Iterating over dictionaries\n",
    "##You can use loops o iterate over dictionaries, values, or items\n",
    "##Iterating over loops\n",
    "\n",
    "for keys in student.keys():\n",
    "    print(keys)\n"
   ]
  },
  {
   "cell_type": "code",
   "execution_count": 29,
   "metadata": {},
   "outputs": [
    {
     "name": "stdout",
     "output_type": "stream",
     "text": [
      "amal3\n",
      "33\n",
      "india\n"
     ]
    }
   ],
   "source": [
    "##iterate over values\n",
    "for values in student.values():\n",
    "    print(values)"
   ]
  },
  {
   "cell_type": "code",
   "execution_count": 32,
   "metadata": {},
   "outputs": [
    {
     "name": "stdout",
     "output_type": "stream",
     "text": [
      "name:amal3\n",
      "age:33\n",
      "address:india\n"
     ]
    }
   ],
   "source": [
    "##iterate over key value pairs\n",
    "for key,value in student.items():\n",
    "    print(f\"{key}:{value}\")\n"
   ]
  },
  {
   "cell_type": "code",
   "execution_count": 38,
   "metadata": {},
   "outputs": [
    {
     "name": "stdout",
     "output_type": "stream",
     "text": [
      "{'student1': {'name': 'amal', 'age': 24}, 'student2': {'name': 'peter', 'age': 28}}\n"
     ]
    }
   ],
   "source": [
    "##Nested Dictionnaries\n",
    "\n",
    "students={\n",
    "    \"student1\":{\"name\":\"amal\",\"age\":24},\n",
    "    \"student2\":{\"name\":\"peter\",\"age\":28}\n",
    "}\n",
    "print(students)"
   ]
  },
  {
   "cell_type": "code",
   "execution_count": 39,
   "metadata": {},
   "outputs": [
    {
     "name": "stdout",
     "output_type": "stream",
     "text": [
      "peter\n",
      "28\n"
     ]
    }
   ],
   "source": [
    "##Access nested dictionary elements\n",
    "print(students[\"student2\"][\"name\"])\n",
    "print(students[\"student2\"][\"age\"])\n",
    "\n"
   ]
  },
  {
   "cell_type": "code",
   "execution_count": 40,
   "metadata": {},
   "outputs": [
    {
     "data": {
      "text/plain": [
       "dict_items([('student1', {'name': 'amal', 'age': 24}), ('student2', {'name': 'peter', 'age': 28})])"
      ]
     },
     "execution_count": 40,
     "metadata": {},
     "output_type": "execute_result"
    }
   ],
   "source": [
    "students.items()"
   ]
  },
  {
   "cell_type": "code",
   "execution_count": 43,
   "metadata": {},
   "outputs": [
    {
     "name": "stdout",
     "output_type": "stream",
     "text": [
      "student1:{'name': 'amal', 'age': 24}\n",
      "name:amal\n",
      "age:24\n",
      "student2:{'name': 'peter', 'age': 28}\n",
      "name:peter\n",
      "age:28\n"
     ]
    }
   ],
   "source": [
    "##Iterating over nested dictionaries\n",
    "for student_id,student_info in students.items():\n",
    "    print(f\"{student_id}:{student_info}\")\n",
    "    for key,value in student_info.items():\n",
    "        print(f\"{key}:{value}\")\n",
    "\n",
    "\n"
   ]
  },
  {
   "cell_type": "code",
   "execution_count": 44,
   "metadata": {},
   "outputs": [
    {
     "name": "stdout",
     "output_type": "stream",
     "text": [
      "{0: 0, 1: 1, 2: 4, 3: 9, 4: 16}\n"
     ]
    }
   ],
   "source": [
    "##Dictionary comprehension\n",
    "squares={x:x**2 for x in range(5)}\n",
    "print(squares)\n",
    "\n"
   ]
  },
  {
   "cell_type": "code",
   "execution_count": 45,
   "metadata": {},
   "outputs": [
    {
     "name": "stdout",
     "output_type": "stream",
     "text": [
      "{0: 0, 1: 1, 2: 4, 3: 9, 4: 16}\n"
     ]
    }
   ],
   "source": [
    "##Conditional dictionary comprehension\n",
    "evens={x:x**2 for x in range(10) if x%2==0}\n",
    "print(squares)"
   ]
  },
  {
   "cell_type": "code",
   "execution_count": 57,
   "metadata": {},
   "outputs": [
    {
     "name": "stdout",
     "output_type": "stream",
     "text": [
      "{1: 1, 2: 2, 3: 3, 4: 4}\n"
     ]
    }
   ],
   "source": [
    "##Practical examples\n",
    " \n",
    " ##Use a dictionary to count the frequency of the elements and list\n",
    "\n",
    "numbers=[1,2,2,3,3,3,4,4,4,4]\n",
    "frequency={}\n",
    "\n",
    "for number in numbers:\n",
    "    if number in frequency:\n",
    "        frequency[number]+=1\n",
    "    else:\n",
    "        frequency[number]=1\n",
    "\n",
    "print(frequency)    \n",
    "        "
   ]
  },
  {
   "cell_type": "code",
   "execution_count": 58,
   "metadata": {},
   "outputs": [
    {
     "name": "stdout",
     "output_type": "stream",
     "text": [
      "{'a': 1, 'b': 3, 'c': 4}\n"
     ]
    }
   ],
   "source": [
    "## Merge 2 dictionaries into one\n",
    "\n",
    "\n",
    "dict1={\"a\":1,\"b\":2}\n",
    "dict2={\"b\":3,\"c\":4}\n",
    "merged_dict={**dict1,**dict2}\n",
    "print(merged_dict)"
   ]
  }
 ],
 "metadata": {
  "kernelspec": {
   "display_name": "Python 3",
   "language": "python",
   "name": "python3"
  },
  "language_info": {
   "codemirror_mode": {
    "name": "ipython",
    "version": 3
   },
   "file_extension": ".py",
   "mimetype": "text/x-python",
   "name": "python",
   "nbconvert_exporter": "python",
   "pygments_lexer": "ipython3",
   "version": "3.12.0"
  }
 },
 "nbformat": 4,
 "nbformat_minor": 2
}
