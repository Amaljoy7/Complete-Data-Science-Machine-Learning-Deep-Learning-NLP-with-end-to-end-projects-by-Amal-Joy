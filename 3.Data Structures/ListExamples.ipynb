{
 "cells": [
  {
   "cell_type": "markdown",
   "metadata": {},
   "source": [
    "Real world examples using lists in python\n",
    " \n",
    " EXAMPLE1 : MANAGE TO DO A TO DO LIST\n",
    " .Create a to do list to keep track of tasks\n",
    " \n"
   ]
  },
  {
   "cell_type": "code",
   "execution_count": 2,
   "metadata": {},
   "outputs": [
    {
     "name": "stdout",
     "output_type": "stream",
     "text": [
      "To Do List remaining\n",
      "-Buy Groceries\n",
      "-Pay bills\n",
      "-Schedule a meeting\n",
      "-Go to gym\n"
     ]
    }
   ],
   "source": [
    "to_do_list=[\"Buy Groceries\",\"Clean the house\", \"Pay bills\"]\n",
    "\n",
    "##Adding to task\n",
    "to_do_list.append(\"Schedule a meeting\")\n",
    "to_do_list.append(\"Go to gym\")\n",
    "\n",
    "##Removing a completed task\n",
    "to_do_list.remove(\"Clean the house\")\n",
    "\n",
    "##Checking if a task is in the list\n",
    "if \"pay bills\" in to_do_list:\n",
    "    print(\"dont forget to pay the bills\")\n",
    "print(\"To Do List remaining\")\n",
    "for task in to_do_list:\n",
    "    print(f\"-{task}\")\n",
    "\n",
    "\n",
    "\n",
    "\n",
    "\n"
   ]
  },
  {
   "cell_type": "markdown",
   "metadata": {},
   "source": [
    "EXAMPLE 2 : ORGANIZING STUDENT GRADES\n",
    "\n",
    ". Create a list to store and calculate average grades for students"
   ]
  },
  {
   "cell_type": "code",
   "execution_count": 5,
   "metadata": {},
   "outputs": [
    {
     "name": "stdout",
     "output_type": "stream",
     "text": [
      "Average Grade: 88.00\n",
      "Highest Grade: 95\n",
      "Lowest Grade: 78\n"
     ]
    }
   ],
   "source": [
    "##Organizing student grades\n",
    "grades = [85,92,78,90,88]\n",
    "\n",
    "##Adding a new grade\n",
    "grades.append(95)\n",
    "\n",
    "##Calculating the average grade\n",
    "average_grade = sum(grades) / len(grades)\n",
    "print(f\"Average Grade: {average_grade:.2f}\")\n",
    "\n",
    "##Finding the highest and lowest grades\n",
    "highest_grade = max(grades)\n",
    "lowest_grade = min(grades)\n",
    "print(f\"Highest Grade: {highest_grade}\")\n",
    "print(f\"Lowest Grade: {lowest_grade}\")\n"
   ]
  },
  {
   "cell_type": "markdown",
   "metadata": {},
   "source": [
    "EXAMPLE 3: Managing an Inventory\n",
    "Use a list to manage inventory items in a store\n",
    "\n",
    "\n"
   ]
  },
  {
   "cell_type": "code",
   "execution_count": 6,
   "metadata": {},
   "outputs": [
    {
     "name": "stdout",
     "output_type": "stream",
     "text": [
      "oranges are in stock.\n",
      "Inentory list\n",
      "-apples\n",
      "-oranges\n",
      "-grapes\n",
      "-strawberries\n"
     ]
    }
   ],
   "source": [
    "##Managing an inventory\n",
    "inventory = [\"apples\",\"bananas\",\"oranges\",\"grapes\"]\n",
    "\n",
    "##Adding an iventory\n",
    "inventory.append(\"strawberries\")\n",
    "\n",
    "##Removing an item from inventory\n",
    "inventory.remove(\"bananas\")\n",
    "\n",
    "##Checking if an item is in stock\n",
    "item = \"oranges\"\n",
    "if item in inventory:\n",
    "    print(f\"{item} are in stock.\")\n",
    "else:\n",
    "    print(f\"{item} are out of stock.\")\n",
    "\n",
    "##Printing the inventory\n",
    "print(\"Inentory list\")\n",
    "for item in inventory:\n",
    "    print(f\"-{item}\")\n"
   ]
  }
 ],
 "metadata": {
  "kernelspec": {
   "display_name": "Python 3",
   "language": "python",
   "name": "python3"
  },
  "language_info": {
   "codemirror_mode": {
    "name": "ipython",
    "version": 3
   },
   "file_extension": ".py",
   "mimetype": "text/x-python",
   "name": "python",
   "nbconvert_exporter": "python",
   "pygments_lexer": "ipython3",
   "version": "3.12.0"
  }
 },
 "nbformat": 4,
 "nbformat_minor": 2
}
